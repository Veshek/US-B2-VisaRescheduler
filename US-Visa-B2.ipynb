{
 "cells": [
  {
   "cell_type": "markdown",
   "source": [
    "## Import Statements"
   ],
   "metadata": {
    "collapsed": false,
    "pycharm": {
     "name": "#%% md\n"
    }
   }
  },
  {
   "cell_type": "code",
   "execution_count": 7,
   "metadata": {
    "collapsed": true
   },
   "outputs": [],
   "source": [
    "from selenium import webdriver\n",
    "from selenium.webdriver.common.by import By\n",
    "from selenium.webdriver.support.ui import Select\n",
    "from selenium.webdriver.support.ui import WebDriverWait\n",
    "from selenium.webdriver.support import expected_conditions as EC"
   ]
  },
  {
   "cell_type": "markdown",
   "source": [
    "## Opening chrome browser\n",
    "\n",
    "<h3> Navigate to the US Embassy Visa Portal <h3/>"
   ],
   "metadata": {
    "collapsed": false,
    "pycharm": {
     "name": "#%% md\n"
    }
   }
  },
  {
   "cell_type": "code",
   "execution_count": 8,
   "outputs": [],
   "source": [
    "driver = webdriver.Chrome()\n",
    "# Set up the driver (adjust the path to your driver executable)\n",
    "\n",
    "# Navigate to the webpage\n",
    "driver.get('https://ais.usvisa-info.com/en-ca/niv/schedule/38176035/appointment')"
   ],
   "metadata": {
    "collapsed": false,
    "pycharm": {
     "name": "#%%\n"
    }
   }
  },
  {
   "cell_type": "markdown",
   "source": [
    "## Sign into the account"
   ],
   "metadata": {
    "collapsed": false,
    "pycharm": {
     "name": "#%% md\n"
    }
   }
  },
  {
   "cell_type": "code",
   "execution_count": 9,
   "outputs": [],
   "source": [
    "accept_button = driver.find_element(By.CSS_SELECTOR, 'button[class=\"ui-button ui-corner-all ui-widget\"]')\n",
    "accept_button.click()"
   ],
   "metadata": {
    "collapsed": false,
    "pycharm": {
     "name": "#%%\n"
    }
   }
  },
  {
   "cell_type": "code",
   "execution_count": 10,
   "outputs": [],
   "source": [
    "import json\n",
    "\n",
    "# Specify the path to the JSON file\n",
    "json_file_path = \"./user_config.json\"\n",
    "# Open the JSON file\n",
    "with open(json_file_path) as file:\n",
    "    # Load the JSON data into a dictionary\n",
    "    data = json.load(file)\n",
    "# Access the data as a dictionary\n",
    "# For example, access a specific key\n",
    "username = data[\"username\"]\n",
    "password = data[\"password\"]\n",
    "\n",
    "#Find username and password input textbox\n",
    "username_input_field = driver.find_element(By.ID, 'user_email')\n",
    "password_input_field = driver.find_element(By.ID, 'user_password')\n",
    "check_button = driver.find_element(By.CSS_SELECTOR, 'label[for=\"policy_confirmed\"]')\n",
    "\n",
    "#Clear Values in the textbox fields\n",
    "username_input_field.clear()\n",
    "password_input_field.clear()\n",
    "\n",
    "#Enter credentials\n",
    "username_input_field.send_keys(username)\n",
    "password_input_field.send_keys(password)\n",
    "check_button.click()\n",
    "\n",
    "#Submit form\n",
    "username_input_field.submit()"
   ],
   "metadata": {
    "collapsed": false,
    "pycharm": {
     "name": "#%%\n"
    }
   }
  },
  {
   "cell_type": "markdown",
   "source": [
    "## At the Reschedule Page"
   ],
   "metadata": {
    "collapsed": false,
    "pycharm": {
     "name": "#%% md\n"
    }
   }
  },
  {
   "cell_type": "markdown",
   "source": [
    "### We wait for the elements on the page to load before selecting them\n",
    "\n"
   ],
   "metadata": {
    "collapsed": false,
    "pycharm": {
     "name": "#%% md\n"
    }
   }
  },
  {
   "cell_type": "code",
   "execution_count": 11,
   "outputs": [],
   "source": [
    "from selenium import webdriver\n",
    "from selenium.webdriver.common.by import By\n",
    "from selenium.webdriver.support.ui import WebDriverWait\n",
    "from selenium.webdriver.support import expected_conditions as EC\n",
    "\n",
    "def wait_until_element_appears(driver, locator, timeout):\n",
    "    wait = WebDriverWait(driver, timeout)\n",
    "    element = wait.until(EC.presence_of_element_located(locator))\n",
    "    return element\n",
    "\n",
    "timeout = 10"
   ],
   "metadata": {
    "collapsed": false,
    "pycharm": {
     "name": "#%%\n"
    }
   }
  },
  {
   "cell_type": "markdown",
   "source": [
    "## Find Available Dates"
   ],
   "metadata": {
    "collapsed": false,
    "pycharm": {
     "name": "#%% md\n"
    }
   }
  },
  {
   "cell_type": "code",
   "execution_count": 12,
   "outputs": [],
   "source": [
    "locator = (By.ID, \"appointments_consulate_appointment_facility_id\")\n",
    "element = wait_until_element_appears(driver, locator, timeout)\n",
    "consulate_location = Select(driver.find_element(By.ID, \"appointments_consulate_appointment_facility_id\"))\n",
    "consulate_location.select_by_visible_text(\"Vancouver\")\n",
    "\n",
    "wait = WebDriverWait(driver, timeout)  # Adjust the timeout as needed\n",
    "\n",
    "#open the calendar on the website\n",
    "locator = (By.ID, \"appointments_consulate_appointment_date\")\n",
    "element = wait.until(EC.element_to_be_clickable(locator))  # Replace with your desired locator\n",
    "element = wait_until_element_appears(driver, locator, timeout)\n",
    "calendar = driver.find_element(By.ID, \"appointments_consulate_appointment_date\")\n",
    "calendar.click()\n",
    "\n",
    "def isAvailable():\n",
    "    try:\n",
    "        driver.find_element(By.CSS_SELECTOR,'a[class=\"ui-state-default\"]')\n",
    "        return True\n",
    "    except:\n",
    "        return False\n",
    "\n",
    "def goNext():\n",
    "    next_button = driver.find_element(By.CSS_SELECTOR,'a[data-handler=\"next\"]')\n",
    "    next_button.click()\n",
    "\n",
    "def getDates():\n",
    "    dates = driver.find_elements(By.CSS_SELECTOR,'a[class=\"ui-state-default\"]')\n",
    "    return dates\n",
    "\n",
    "while True:\n",
    "    if not isAvailable():\n",
    "        goNext()\n",
    "    else:\n",
    "        break"
   ],
   "metadata": {
    "collapsed": false,
    "pycharm": {
     "name": "#%%\n"
    }
   }
  },
  {
   "cell_type": "markdown",
   "source": [
    "## Ensure that chosen dates are earlier than current registration date"
   ],
   "metadata": {
    "collapsed": false,
    "pycharm": {
     "name": "#%% md\n"
    }
   }
  },
  {
   "cell_type": "code",
   "execution_count": 13,
   "outputs": [],
   "source": [
    "#load in old appointment data\n",
    "appointmentData = data[\"CurrentAppointment\"]\n",
    "curr_year, curr_month, curr_day = appointmentData[\"year\"], appointmentData[\"month\"], appointmentData[\"day\"]\n",
    "\n",
    "def isEarlier(x: tuple[int, int, int], y: tuple[int, int, int], index: int = 0) -> bool:\n",
    "    if index > 2:\n",
    "        return False\n",
    "    elif x[index] > y[index]:\n",
    "        return False\n",
    "    elif x[index] < y[index]:\n",
    "        return True\n",
    "    else:\n",
    "        return isEarlier(x, y, index + 1)\n",
    "\n",
    "def getDates():\n",
    "    dates = driver.find_elements(By.CSS_SELECTOR,'td[data-handler=\"selectDay\"]')\n",
    "    return dates\n",
    "\n",
    "dates = getDates()\n",
    "bestdate = (curr_year,curr_month,curr_day)\n",
    "bestelement = None\n",
    "for date in dates:\n",
    "    year = int(date.get_attribute(\"data-year\"))\n",
    "    month = int(date.get_attribute(\"data-month\"))\n",
    "    day = int(date.text)\n",
    "    if isEarlier((year,month,day),bestdate):\n",
    "        bestdate = (year,month,day)\n",
    "        bestelement = date\n",
    "        date.click()\n",
    "try:\n",
    "    bestelement.click()\n",
    "    success=True\n",
    "except:\n",
    "    # driver.quit()\n",
    "    success=False\n",
    "    pass"
   ],
   "metadata": {
    "collapsed": false,
    "pycharm": {
     "name": "#%%\n"
    }
   }
  },
  {
   "cell_type": "markdown",
   "source": [
    "## Pick a Time"
   ],
   "metadata": {
    "collapsed": false,
    "pycharm": {
     "name": "#%% md\n"
    }
   }
  },
  {
   "cell_type": "code",
   "execution_count": 14,
   "outputs": [
    {
     "name": "stdout",
     "output_type": "stream",
     "text": [
      "[<selenium.webdriver.remote.webelement.WebElement (session=\"d4872492524006dcaa7a3abaa73ad376\", element=\"D5AC127960C62BEDAC595FD5CFAA0B13_element_82\")>]\n"
     ]
    }
   ],
   "source": [
    "import random\n",
    "# Find the select element\n",
    "select_element = Select(driver.find_element(By.ID,\"appointments_consulate_appointment_time\"))  # Replace \"select-element-id\" with the ID of the select element\n",
    "\n",
    "# Get all the options within the select element\n",
    "options = select_element.options\n",
    "print(options)\n",
    "# Select the first valid time option\n",
    "for option in options:\n",
    "    value = option.get_attribute(\"value\")\n",
    "    if value:\n",
    "        select_element.select_by_value(value)\n"
   ],
   "metadata": {
    "collapsed": false,
    "pycharm": {
     "name": "#%%\n"
    }
   }
  },
  {
   "cell_type": "markdown",
   "source": [
    "## Store the new dates"
   ],
   "metadata": {
    "collapsed": false,
    "pycharm": {
     "name": "#%% md\n"
    }
   }
  },
  {
   "cell_type": "code",
   "execution_count": 15,
   "outputs": [],
   "source": [
    "import json\n",
    "\n",
    "def update_json(file_path, new_entries):\n",
    "    # Read existing JSON data from file\n",
    "    with open(file_path, \"r\") as file:\n",
    "        data = json.load(file)\n",
    "\n",
    "    # Update specific entries in the JSON data\n",
    "    for key, value in new_entries.items():\n",
    "        data[key] = value\n",
    "\n",
    "    # Write the updated JSON data back to the file\n",
    "    with open(file_path, \"w\") as file:\n",
    "        json.dump(data, file, indent=4)\n",
    "\n",
    "if success is True:\n",
    "    year = bestdate[0]\n",
    "    month = bestdate[1]\n",
    "    day = bestdate[2]\n",
    "    new_entries = {\n",
    "        'CurrentAppointment':{\n",
    "        \"year\": 1,\n",
    "        \"month\": 1,\n",
    "        \"day\": 1,\n",
    "        }\n",
    "    }\n",
    "\n",
    "    update_json('./user_config.json', new_entries)"
   ],
   "metadata": {
    "collapsed": false,
    "pycharm": {
     "name": "#%%\n"
    }
   }
  },
  {
   "cell_type": "markdown",
   "source": [
    "## Submit Data"
   ],
   "metadata": {
    "collapsed": false,
    "pycharm": {
     "name": "#%% md\n"
    }
   }
  },
  {
   "cell_type": "code",
   "execution_count": 16,
   "outputs": [],
   "source": [
    "reschedule = driver.find_element(By.ID,\"appointments_submit\")\n",
    "reschedule.click()"
   ],
   "metadata": {
    "collapsed": false,
    "pycharm": {
     "name": "#%%\n"
    }
   }
  },
  {
   "cell_type": "code",
   "execution_count": 17,
   "outputs": [
    {
     "ename": "NoSuchElementException",
     "evalue": "Message: no such element: Unable to locate element: {\"method\":\"css selector\",\"selector\":\"span[class=\"fas fa-times\"]\"}\n  (Session info: chrome=114.0.5735.248); For documentation on this error, please visit: https://www.selenium.dev/documentation/webdriver/troubleshooting/errors#no-such-element-exception\nStacktrace:\nBacktrace:\n\tGetHandleVerifier [0x00B9A813+48355]\n\t(No symbol) [0x00B2C4B1]\n\t(No symbol) [0x00A35358]\n\t(No symbol) [0x00A609A5]\n\t(No symbol) [0x00A60B3B]\n\t(No symbol) [0x00A8E232]\n\t(No symbol) [0x00A7A784]\n\t(No symbol) [0x00A8C922]\n\t(No symbol) [0x00A7A536]\n\t(No symbol) [0x00A582DC]\n\t(No symbol) [0x00A593DD]\n\tGetHandleVerifier [0x00DFAABD+2539405]\n\tGetHandleVerifier [0x00E3A78F+2800735]\n\tGetHandleVerifier [0x00E3456C+2775612]\n\tGetHandleVerifier [0x00C251E0+616112]\n\t(No symbol) [0x00B35F8C]\n\t(No symbol) [0x00B32328]\n\t(No symbol) [0x00B3240B]\n\t(No symbol) [0x00B24FF7]\n\tBaseThreadInitThunk [0x758500C9+25]\n\tRtlGetAppContainerNamedObjectPath [0x775F7B1E+286]\n\tRtlGetAppContainerNamedObjectPath [0x775F7AEE+238]\n",
     "output_type": "error",
     "traceback": [
      "\u001B[1;31m---------------------------------------------------------------------------\u001B[0m",
      "\u001B[1;31mNoSuchElementException\u001B[0m                    Traceback (most recent call last)",
      "Cell \u001B[1;32mIn[17], line 5\u001B[0m\n\u001B[0;32m      3\u001B[0m     confirm_reschedule\u001B[38;5;241m.\u001B[39mclick()\n\u001B[0;32m      4\u001B[0m \u001B[38;5;28;01melse\u001B[39;00m:\n\u001B[1;32m----> 5\u001B[0m     cancel_reschedule \u001B[38;5;241m=\u001B[39m \u001B[43mdriver\u001B[49m\u001B[38;5;241;43m.\u001B[39;49m\u001B[43mfind_element\u001B[49m\u001B[43m(\u001B[49m\u001B[43mBy\u001B[49m\u001B[38;5;241;43m.\u001B[39;49m\u001B[43mCSS_SELECTOR\u001B[49m\u001B[43m,\u001B[49m\u001B[38;5;124;43m'\u001B[39;49m\u001B[38;5;124;43mspan[class=\u001B[39;49m\u001B[38;5;124;43m\"\u001B[39;49m\u001B[38;5;124;43mfas fa-times\u001B[39;49m\u001B[38;5;124;43m\"\u001B[39;49m\u001B[38;5;124;43m]\u001B[39;49m\u001B[38;5;124;43m'\u001B[39;49m\u001B[43m)\u001B[49m\n\u001B[0;32m      6\u001B[0m     cancel_reschedule\u001B[38;5;241m.\u001B[39mclick()\n",
      "File \u001B[1;32mc:\\users\\kesha\\documents\\jobsearch\\summer23\\webscraper\\venv\\lib\\site-packages\\selenium\\webdriver\\remote\\webdriver.py:740\u001B[0m, in \u001B[0;36mWebDriver.find_element\u001B[1;34m(self, by, value)\u001B[0m\n\u001B[0;32m    737\u001B[0m     by \u001B[38;5;241m=\u001B[39m By\u001B[38;5;241m.\u001B[39mCSS_SELECTOR\n\u001B[0;32m    738\u001B[0m     value \u001B[38;5;241m=\u001B[39m \u001B[38;5;124mf\u001B[39m\u001B[38;5;124m'\u001B[39m\u001B[38;5;124m[name=\u001B[39m\u001B[38;5;124m\"\u001B[39m\u001B[38;5;132;01m{\u001B[39;00mvalue\u001B[38;5;132;01m}\u001B[39;00m\u001B[38;5;124m\"\u001B[39m\u001B[38;5;124m]\u001B[39m\u001B[38;5;124m'\u001B[39m\n\u001B[1;32m--> 740\u001B[0m \u001B[38;5;28;01mreturn\u001B[39;00m \u001B[38;5;28;43mself\u001B[39;49m\u001B[38;5;241;43m.\u001B[39;49m\u001B[43mexecute\u001B[49m\u001B[43m(\u001B[49m\u001B[43mCommand\u001B[49m\u001B[38;5;241;43m.\u001B[39;49m\u001B[43mFIND_ELEMENT\u001B[49m\u001B[43m,\u001B[49m\u001B[43m \u001B[49m\u001B[43m{\u001B[49m\u001B[38;5;124;43m\"\u001B[39;49m\u001B[38;5;124;43musing\u001B[39;49m\u001B[38;5;124;43m\"\u001B[39;49m\u001B[43m:\u001B[49m\u001B[43m \u001B[49m\u001B[43mby\u001B[49m\u001B[43m,\u001B[49m\u001B[43m \u001B[49m\u001B[38;5;124;43m\"\u001B[39;49m\u001B[38;5;124;43mvalue\u001B[39;49m\u001B[38;5;124;43m\"\u001B[39;49m\u001B[43m:\u001B[49m\u001B[43m \u001B[49m\u001B[43mvalue\u001B[49m\u001B[43m}\u001B[49m\u001B[43m)\u001B[49m[\u001B[38;5;124m\"\u001B[39m\u001B[38;5;124mvalue\u001B[39m\u001B[38;5;124m\"\u001B[39m]\n",
      "File \u001B[1;32mc:\\users\\kesha\\documents\\jobsearch\\summer23\\webscraper\\venv\\lib\\site-packages\\selenium\\webdriver\\remote\\webdriver.py:346\u001B[0m, in \u001B[0;36mWebDriver.execute\u001B[1;34m(self, driver_command, params)\u001B[0m\n\u001B[0;32m    344\u001B[0m response \u001B[38;5;241m=\u001B[39m \u001B[38;5;28mself\u001B[39m\u001B[38;5;241m.\u001B[39mcommand_executor\u001B[38;5;241m.\u001B[39mexecute(driver_command, params)\n\u001B[0;32m    345\u001B[0m \u001B[38;5;28;01mif\u001B[39;00m response:\n\u001B[1;32m--> 346\u001B[0m     \u001B[38;5;28;43mself\u001B[39;49m\u001B[38;5;241;43m.\u001B[39;49m\u001B[43merror_handler\u001B[49m\u001B[38;5;241;43m.\u001B[39;49m\u001B[43mcheck_response\u001B[49m\u001B[43m(\u001B[49m\u001B[43mresponse\u001B[49m\u001B[43m)\u001B[49m\n\u001B[0;32m    347\u001B[0m     response[\u001B[38;5;124m\"\u001B[39m\u001B[38;5;124mvalue\u001B[39m\u001B[38;5;124m\"\u001B[39m] \u001B[38;5;241m=\u001B[39m \u001B[38;5;28mself\u001B[39m\u001B[38;5;241m.\u001B[39m_unwrap_value(response\u001B[38;5;241m.\u001B[39mget(\u001B[38;5;124m\"\u001B[39m\u001B[38;5;124mvalue\u001B[39m\u001B[38;5;124m\"\u001B[39m, \u001B[38;5;28;01mNone\u001B[39;00m))\n\u001B[0;32m    348\u001B[0m     \u001B[38;5;28;01mreturn\u001B[39;00m response\n",
      "File \u001B[1;32mc:\\users\\kesha\\documents\\jobsearch\\summer23\\webscraper\\venv\\lib\\site-packages\\selenium\\webdriver\\remote\\errorhandler.py:245\u001B[0m, in \u001B[0;36mErrorHandler.check_response\u001B[1;34m(self, response)\u001B[0m\n\u001B[0;32m    243\u001B[0m         alert_text \u001B[38;5;241m=\u001B[39m value[\u001B[38;5;124m\"\u001B[39m\u001B[38;5;124malert\u001B[39m\u001B[38;5;124m\"\u001B[39m]\u001B[38;5;241m.\u001B[39mget(\u001B[38;5;124m\"\u001B[39m\u001B[38;5;124mtext\u001B[39m\u001B[38;5;124m\"\u001B[39m)\n\u001B[0;32m    244\u001B[0m     \u001B[38;5;28;01mraise\u001B[39;00m exception_class(message, screen, stacktrace, alert_text)  \u001B[38;5;66;03m# type: ignore[call-arg]  # mypy is not smart enough here\u001B[39;00m\n\u001B[1;32m--> 245\u001B[0m \u001B[38;5;28;01mraise\u001B[39;00m exception_class(message, screen, stacktrace)\n",
      "\u001B[1;31mNoSuchElementException\u001B[0m: Message: no such element: Unable to locate element: {\"method\":\"css selector\",\"selector\":\"span[class=\"fas fa-times\"]\"}\n  (Session info: chrome=114.0.5735.248); For documentation on this error, please visit: https://www.selenium.dev/documentation/webdriver/troubleshooting/errors#no-such-element-exception\nStacktrace:\nBacktrace:\n\tGetHandleVerifier [0x00B9A813+48355]\n\t(No symbol) [0x00B2C4B1]\n\t(No symbol) [0x00A35358]\n\t(No symbol) [0x00A609A5]\n\t(No symbol) [0x00A60B3B]\n\t(No symbol) [0x00A8E232]\n\t(No symbol) [0x00A7A784]\n\t(No symbol) [0x00A8C922]\n\t(No symbol) [0x00A7A536]\n\t(No symbol) [0x00A582DC]\n\t(No symbol) [0x00A593DD]\n\tGetHandleVerifier [0x00DFAABD+2539405]\n\tGetHandleVerifier [0x00E3A78F+2800735]\n\tGetHandleVerifier [0x00E3456C+2775612]\n\tGetHandleVerifier [0x00C251E0+616112]\n\t(No symbol) [0x00B35F8C]\n\t(No symbol) [0x00B32328]\n\t(No symbol) [0x00B3240B]\n\t(No symbol) [0x00B24FF7]\n\tBaseThreadInitThunk [0x758500C9+25]\n\tRtlGetAppContainerNamedObjectPath [0x775F7B1E+286]\n\tRtlGetAppContainerNamedObjectPath [0x775F7AEE+238]\n"
     ]
    }
   ],
   "source": [
    "if (isEarlier(bestdate,(curr_year,curr_month,curr_day))):\n",
    "    confirm_reschedule = driver.find_element(By.CSS_SELECTOR,'a[class=\"button alert\"]')\n",
    "    confirm_reschedule.click()\n",
    "else:\n",
    "    cancel_reschedule = driver.find_element(By.CSS_SELECTOR,'span[class=\"fas fa-times\"]')\n",
    "    cancel_reschedule.click()"
   ],
   "metadata": {
    "collapsed": false,
    "pycharm": {
     "name": "#%%\n"
    }
   }
  }
 ],
 "metadata": {
  "kernelspec": {
   "name": "python3",
   "language": "python",
   "display_name": "Python 3 (ipykernel)"
  },
  "language_info": {
   "codemirror_mode": {
    "name": "ipython",
    "version": 2
   },
   "file_extension": ".py",
   "mimetype": "text/x-python",
   "name": "python",
   "nbconvert_exporter": "python",
   "pygments_lexer": "ipython2",
   "version": "2.7.6"
  }
 },
 "nbformat": 4,
 "nbformat_minor": 0
}